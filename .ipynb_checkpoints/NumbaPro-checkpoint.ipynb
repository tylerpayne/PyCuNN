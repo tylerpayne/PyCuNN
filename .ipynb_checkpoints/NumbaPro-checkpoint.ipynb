{
 "metadata": {
  "name": "",
  "signature": "sha256:b92a5775826dee4bf9b2189caa8b69d4393f17da3438b282727a5201695e5b39"
 },
 "nbformat": 3,
 "nbformat_minor": 0,
 "worksheets": [
  {
   "cells": [
    {
     "cell_type": "code",
     "collapsed": false,
     "input": [
      "from numbapro import vectorize\n",
      "import numpy as np\n",
      "import cProfile as profile"
     ],
     "language": "python",
     "metadata": {},
     "outputs": [],
     "prompt_number": 5
    },
    {
     "cell_type": "code",
     "collapsed": false,
     "input": [
      "@vectorize(['float32(float32,float32)'],target='gpu')\n",
      "def dot(x,y):\n",
      "    return np.dot(x,y)\n",
      "\n",
      "profile.run('dot')"
     ],
     "language": "python",
     "metadata": {},
     "outputs": []
    }
   ],
   "metadata": {}
  }
 ]
}